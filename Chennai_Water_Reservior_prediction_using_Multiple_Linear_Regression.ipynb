{
  "nbformat": 4,
  "nbformat_minor": 0,
  "metadata": {
    "kernelspec": {
      "display_name": "Python 3",
      "language": "python",
      "name": "python3"
    },
    "language_info": {
      "codemirror_mode": {
        "name": "ipython",
        "version": 3
      },
      "file_extension": ".py",
      "mimetype": "text/x-python",
      "name": "python",
      "nbconvert_exporter": "python",
      "pygments_lexer": "ipython3",
      "version": "3.7.2"
    },
    "colab": {
      "name": "Chennai_Water_Reservior_prediction_using_Multiple_Linear_Regression.ipynb",
      "provenance": [],
      "toc_visible": true
    }
  },
  "cells": [
    {
      "cell_type": "markdown",
      "metadata": {
        "id": "kwC9yxJB2zgl",
        "colab_type": "text"
      },
      "source": [
        "## Importing the Libraries"
      ]
    },
    {
      "cell_type": "code",
      "metadata": {
        "id": "6_nLhNVg2zgq",
        "colab_type": "code",
        "colab": {}
      },
      "source": [
        "import pandas as pd\n",
        "import datetime as dt"
      ],
      "execution_count": 0,
      "outputs": []
    },
    {
      "cell_type": "markdown",
      "metadata": {
        "id": "hhr9TyXY2zhV",
        "colab_type": "text"
      },
      "source": [
        "## Importing the Dataset"
      ]
    },
    {
      "cell_type": "code",
      "metadata": {
        "id": "s0qqk0Xb2zhW",
        "colab_type": "code",
        "colab": {}
      },
      "source": [
        "dataset_water_level=pd.read_csv(\"final_Reservior.csv\")"
      ],
      "execution_count": 0,
      "outputs": []
    },
    {
      "cell_type": "markdown",
      "metadata": {
        "id": "u5IvtRsx2zh5",
        "colab_type": "text"
      },
      "source": [
        "## Pre-processing the Dataset"
      ]
    },
    {
      "cell_type": "code",
      "metadata": {
        "id": "uqmUXUKO2ziB",
        "colab_type": "code",
        "outputId": "3e8a39c3-1558-4b8f-e98d-d64cd02b4cd6",
        "colab": {
          "base_uri": "https://localhost:8080/",
          "height": 235
        }
      },
      "source": [
        "dataset_water_level['Date']=pd.to_datetime(dataset_water_level['Date'], infer_datetime_format=True)\n",
        "dataset_water_level['Date']=dataset_water_level['Date'].map(dt.datetime.toordinal)\n",
        "indexDataset = dataset_water_level.set_index(['Date'])\n",
        "\n",
        "indexDataset.head()"
      ],
      "execution_count": 3,
      "outputs": [
        {
          "output_type": "execute_result",
          "data": {
            "text/html": [
              "<div>\n",
              "<style scoped>\n",
              "    .dataframe tbody tr th:only-of-type {\n",
              "        vertical-align: middle;\n",
              "    }\n",
              "\n",
              "    .dataframe tbody tr th {\n",
              "        vertical-align: top;\n",
              "    }\n",
              "\n",
              "    .dataframe thead th {\n",
              "        text-align: right;\n",
              "    }\n",
              "</style>\n",
              "<table border=\"1\" class=\"dataframe\">\n",
              "  <thead>\n",
              "    <tr style=\"text-align: right;\">\n",
              "      <th></th>\n",
              "      <th>Total</th>\n",
              "    </tr>\n",
              "    <tr>\n",
              "      <th>Date</th>\n",
              "      <th></th>\n",
              "    </tr>\n",
              "  </thead>\n",
              "  <tbody>\n",
              "    <tr>\n",
              "      <th>731581</th>\n",
              "      <td>271.9</td>\n",
              "    </tr>\n",
              "    <tr>\n",
              "      <th>731582</th>\n",
              "      <td>271.9</td>\n",
              "    </tr>\n",
              "    <tr>\n",
              "      <th>731583</th>\n",
              "      <td>270.9</td>\n",
              "    </tr>\n",
              "    <tr>\n",
              "      <th>731584</th>\n",
              "      <td>270.9</td>\n",
              "    </tr>\n",
              "    <tr>\n",
              "      <th>731585</th>\n",
              "      <td>270.8</td>\n",
              "    </tr>\n",
              "  </tbody>\n",
              "</table>\n",
              "</div>"
            ],
            "text/plain": [
              "        Total\n",
              "Date         \n",
              "731581  271.9\n",
              "731582  271.9\n",
              "731583  270.9\n",
              "731584  270.9\n",
              "731585  270.8"
            ]
          },
          "metadata": {
            "tags": []
          },
          "execution_count": 3
        }
      ]
    },
    {
      "cell_type": "markdown",
      "metadata": {
        "id": "J2Cv7BiV2zjE",
        "colab_type": "text"
      },
      "source": [
        "## Selecting features and the labels"
      ]
    },
    {
      "cell_type": "code",
      "metadata": {
        "id": "u4MC3NVh2zjF",
        "colab_type": "code",
        "colab": {}
      },
      "source": [
        "X = dataset_water_level['Date'] \n",
        "y = dataset_water_level['Total']"
      ],
      "execution_count": 0,
      "outputs": []
    },
    {
      "cell_type": "markdown",
      "metadata": {
        "id": "66ZY5Gt22zjM",
        "colab_type": "text"
      },
      "source": [
        "## Spliting the Dataset"
      ]
    },
    {
      "cell_type": "code",
      "metadata": {
        "id": "Ujr8YINv2zjN",
        "colab_type": "code",
        "colab": {}
      },
      "source": [
        "from sklearn.model_selection import train_test_split  \n",
        "X_train, X_test, y_train, y_test = train_test_split(X, y, test_size=0.20) "
      ],
      "execution_count": 0,
      "outputs": []
    },
    {
      "cell_type": "code",
      "metadata": {
        "id": "thq5rpni2zjT",
        "colab_type": "code",
        "colab": {}
      },
      "source": [
        "from sklearn.linear_model import LinearRegression\n",
        "from sklearn.metrics import r2_score\n",
        "classifier = LinearRegression()  "
      ],
      "execution_count": 0,
      "outputs": []
    },
    {
      "cell_type": "markdown",
      "metadata": {
        "id": "o-OVrGHI2zjZ",
        "colab_type": "text"
      },
      "source": [
        "## Training the Model"
      ]
    },
    {
      "cell_type": "code",
      "metadata": {
        "id": "Wd7_J6Vj2zja",
        "colab_type": "code",
        "outputId": "10e6e48b-0e73-4bdf-9e48-87eecc05ba0e",
        "colab": {
          "base_uri": "https://localhost:8080/",
          "height": 34
        }
      },
      "source": [
        "classifier.fit(X_train.values.reshape(-1, 1), y_train) "
      ],
      "execution_count": 7,
      "outputs": [
        {
          "output_type": "execute_result",
          "data": {
            "text/plain": [
              "LinearRegression(copy_X=True, fit_intercept=True, n_jobs=None, normalize=False)"
            ]
          },
          "metadata": {
            "tags": []
          },
          "execution_count": 7
        }
      ]
    },
    {
      "cell_type": "markdown",
      "metadata": {
        "id": "mnmAqzTN2zjg",
        "colab_type": "text"
      },
      "source": [
        "## Predicting the Values"
      ]
    },
    {
      "cell_type": "code",
      "metadata": {
        "id": "7xiTwA1g2zjh",
        "colab_type": "code",
        "colab": {
          "base_uri": "https://localhost:8080/",
          "height": 255
        },
        "outputId": "5c27284e-e954-40f5-c95a-16d1d084d120"
      },
      "source": [
        "y_pred = classifier.predict(X_test.values.reshape(-1, 1)) \n"
      ],
      "execution_count": 19,
      "outputs": [
        {
          "output_type": "stream",
          "text": [
            "[4690.56813259 3158.79600164 3038.95677826 ... 4716.70590559 5577.27975249\n",
            " 2970.40676982]\n",
            "1865     8903.0\n",
            "4971       91.0\n",
            "5214     4240.0\n",
            "3573     1992.0\n",
            "4766     1391.0\n",
            "         ...   \n",
            "2970     8527.0\n",
            "2699     6227.0\n",
            "1812    10242.0\n",
            "67        143.1\n",
            "5353     1222.0\n",
            "Name: Total, Length: 1148, dtype: float64\n"
          ],
          "name": "stdout"
        }
      ]
    },
    {
      "cell_type": "markdown",
      "metadata": {
        "id": "Bo5VGECw2zjk",
        "colab_type": "text"
      },
      "source": [
        "## Calculating the Accuracy"
      ]
    },
    {
      "cell_type": "code",
      "metadata": {
        "id": "w70DMumg2zjl",
        "colab_type": "code",
        "colab": {}
      },
      "source": [
        "import numpy as np\n",
        "from sklearn.metrics import mean_squared_error\n",
        "from sklearn.metrics import r2_score\n",
        "test_set_rmse = (np.sqrt(mean_squared_error(y_test, y_pred)))/100\n",
        "accuracy=100-test_set_rmse\n",
        "test_set_r2 = r2_score(y_test, y_pred)"
      ],
      "execution_count": 0,
      "outputs": []
    },
    {
      "cell_type": "code",
      "metadata": {
        "id": "pfK97jNP2zjq",
        "colab_type": "code",
        "outputId": "d95ff046-5df7-4fa8-fda7-ed85cff12b87",
        "colab": {
          "base_uri": "https://localhost:8080/",
          "height": 34
        }
      },
      "source": [
        "print(accuracy)"
      ],
      "execution_count": 26,
      "outputs": [
        {
          "output_type": "stream",
          "text": [
            "71.08667860970593\n"
          ],
          "name": "stdout"
        }
      ]
    },
    {
      "cell_type": "code",
      "metadata": {
        "id": "8CARXisc2zjv",
        "colab_type": "code",
        "colab": {}
      },
      "source": [
        "fit = classifier.fit(X.values.reshape(-1, 1),y)"
      ],
      "execution_count": 0,
      "outputs": []
    },
    {
      "cell_type": "code",
      "metadata": {
        "id": "k2RJBoIw2zjz",
        "colab_type": "code",
        "outputId": "7fe2aea9-d719-451a-c1f3-f3a0ef68a04b",
        "colab": {
          "base_uri": "https://localhost:8080/",
          "height": 34
        }
      },
      "source": [
        "fit.score(X.values.reshape(-1, 1),y)"
      ],
      "execution_count": 28,
      "outputs": [
        {
          "output_type": "execute_result",
          "data": {
            "text/plain": [
              "0.07474721565671028"
            ]
          },
          "metadata": {
            "tags": []
          },
          "execution_count": 28
        }
      ]
    },
    {
      "cell_type": "code",
      "metadata": {
        "id": "XBZf_vU5TNjw",
        "colab_type": "code",
        "colab": {}
      },
      "source": [
        ""
      ],
      "execution_count": 0,
      "outputs": []
    }
  ]
}