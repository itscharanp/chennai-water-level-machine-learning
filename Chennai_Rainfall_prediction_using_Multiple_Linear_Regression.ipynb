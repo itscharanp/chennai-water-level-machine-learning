{
  "nbformat": 4,
  "nbformat_minor": 0,
  "metadata": {
    "kernelspec": {
      "display_name": "Python 3",
      "language": "python",
      "name": "python3"
    },
    "language_info": {
      "codemirror_mode": {
        "name": "ipython",
        "version": 3
      },
      "file_extension": ".py",
      "mimetype": "text/x-python",
      "name": "python",
      "nbconvert_exporter": "python",
      "pygments_lexer": "ipython3",
      "version": "3.7.2"
    },
    "colab": {
      "name": "Chennai_Rainfall_prediction_using_Multiple_Linear_Regression.ipynb",
      "provenance": [],
      "toc_visible": true
    }
  },
  "cells": [
    {
      "cell_type": "markdown",
      "metadata": {
        "id": "yBpBKz6L0mCN",
        "colab_type": "text"
      },
      "source": [
        "## Importing the Libraries"
      ]
    },
    {
      "cell_type": "code",
      "metadata": {
        "id": "H1qzltQo0mCS",
        "colab_type": "code",
        "colab": {}
      },
      "source": [
        "import pandas as pd\n",
        "import datetime as dt"
      ],
      "execution_count": 0,
      "outputs": []
    },
    {
      "cell_type": "markdown",
      "metadata": {
        "id": "wDeH-xLw0mCi",
        "colab_type": "text"
      },
      "source": [
        "## Importing the Dataset"
      ]
    },
    {
      "cell_type": "code",
      "metadata": {
        "id": "gEARtTBl0mCl",
        "colab_type": "code",
        "colab": {}
      },
      "source": [
        "dataset_water_level=pd.read_csv(\"final_rainfall.csv\")"
      ],
      "execution_count": 0,
      "outputs": []
    },
    {
      "cell_type": "markdown",
      "metadata": {
        "id": "Xv5jUlqy0mC1",
        "colab_type": "text"
      },
      "source": [
        "## Pre-processing the Dataset"
      ]
    },
    {
      "cell_type": "code",
      "metadata": {
        "id": "OWXePWnP0mC4",
        "colab_type": "code",
        "outputId": "7393de91-2a55-46fe-e444-69132ef4d0f1",
        "colab": {
          "base_uri": "https://localhost:8080/",
          "height": 235
        }
      },
      "source": [
        "dataset_water_level['Date']=pd.to_datetime(dataset_water_level['Date'], infer_datetime_format=True)\n",
        "dataset_water_level['Date']=dataset_water_level['Date'].map(dt.datetime.toordinal)\n",
        "indexDataset = dataset_water_level.set_index(['Date'])\n",
        "\n",
        "indexDataset.head()"
      ],
      "execution_count": 5,
      "outputs": [
        {
          "output_type": "execute_result",
          "data": {
            "text/html": [
              "<div>\n",
              "<style scoped>\n",
              "    .dataframe tbody tr th:only-of-type {\n",
              "        vertical-align: middle;\n",
              "    }\n",
              "\n",
              "    .dataframe tbody tr th {\n",
              "        vertical-align: top;\n",
              "    }\n",
              "\n",
              "    .dataframe thead th {\n",
              "        text-align: right;\n",
              "    }\n",
              "</style>\n",
              "<table border=\"1\" class=\"dataframe\">\n",
              "  <thead>\n",
              "    <tr style=\"text-align: right;\">\n",
              "      <th></th>\n",
              "      <th>Total</th>\n",
              "    </tr>\n",
              "    <tr>\n",
              "      <th>Date</th>\n",
              "      <th></th>\n",
              "    </tr>\n",
              "  </thead>\n",
              "  <tbody>\n",
              "    <tr>\n",
              "      <th>731581</th>\n",
              "      <td>0.0</td>\n",
              "    </tr>\n",
              "    <tr>\n",
              "      <th>731612</th>\n",
              "      <td>0.0</td>\n",
              "    </tr>\n",
              "    <tr>\n",
              "      <th>731641</th>\n",
              "      <td>0.0</td>\n",
              "    </tr>\n",
              "    <tr>\n",
              "      <th>731672</th>\n",
              "      <td>0.0</td>\n",
              "    </tr>\n",
              "    <tr>\n",
              "      <th>731702</th>\n",
              "      <td>0.0</td>\n",
              "    </tr>\n",
              "  </tbody>\n",
              "</table>\n",
              "</div>"
            ],
            "text/plain": [
              "        Total\n",
              "Date         \n",
              "731581    0.0\n",
              "731612    0.0\n",
              "731641    0.0\n",
              "731672    0.0\n",
              "731702    0.0"
            ]
          },
          "metadata": {
            "tags": []
          },
          "execution_count": 5
        }
      ]
    },
    {
      "cell_type": "markdown",
      "metadata": {
        "id": "jTK8H-_f0mDK",
        "colab_type": "text"
      },
      "source": [
        "## Selecting features and the labels"
      ]
    },
    {
      "cell_type": "code",
      "metadata": {
        "id": "fMHu1nsZ0mDN",
        "colab_type": "code",
        "colab": {}
      },
      "source": [
        "X = dataset_water_level['Date'] \n",
        "y = dataset_water_level['Total']"
      ],
      "execution_count": 0,
      "outputs": []
    },
    {
      "cell_type": "markdown",
      "metadata": {
        "id": "rvKlG7zD0mDh",
        "colab_type": "text"
      },
      "source": [
        "## Spliting the Dataset"
      ]
    },
    {
      "cell_type": "code",
      "metadata": {
        "id": "aDXdHrlo0mDk",
        "colab_type": "code",
        "colab": {}
      },
      "source": [
        "from sklearn.model_selection import train_test_split  \n",
        "X_train, X_test, y_train, y_test = train_test_split(X, y, test_size=0.20) "
      ],
      "execution_count": 0,
      "outputs": []
    },
    {
      "cell_type": "code",
      "metadata": {
        "id": "iNzAu3560mD0",
        "colab_type": "code",
        "colab": {}
      },
      "source": [
        "from sklearn.linear_model import LinearRegression\n",
        "from sklearn.metrics import r2_score\n",
        "classifier = LinearRegression()  "
      ],
      "execution_count": 0,
      "outputs": []
    },
    {
      "cell_type": "markdown",
      "metadata": {
        "id": "kX5oJLPZ0mED",
        "colab_type": "text"
      },
      "source": [
        "## Training the Model"
      ]
    },
    {
      "cell_type": "code",
      "metadata": {
        "id": "QmoN65aG0mEG",
        "colab_type": "code",
        "outputId": "20cf8fa7-0844-44b1-ef2e-6138d3e2dbf5",
        "colab": {
          "base_uri": "https://localhost:8080/",
          "height": 34
        }
      },
      "source": [
        "classifier.fit(X_train.values.reshape(-1, 1), y_train) "
      ],
      "execution_count": 9,
      "outputs": [
        {
          "output_type": "execute_result",
          "data": {
            "text/plain": [
              "LinearRegression(copy_X=True, fit_intercept=True, n_jobs=None, normalize=False)"
            ]
          },
          "metadata": {
            "tags": []
          },
          "execution_count": 9
        }
      ]
    },
    {
      "cell_type": "markdown",
      "metadata": {
        "id": "6aANkxUP0mEX",
        "colab_type": "text"
      },
      "source": [
        "## Predicting the Values"
      ]
    },
    {
      "cell_type": "code",
      "metadata": {
        "id": "Slmm1gMh0mEb",
        "colab_type": "code",
        "colab": {}
      },
      "source": [
        "y_pred = classifier.predict(X_test.values.reshape(-1, 1)) "
      ],
      "execution_count": 0,
      "outputs": []
    },
    {
      "cell_type": "markdown",
      "metadata": {
        "id": "6Be48f1Q0mEl",
        "colab_type": "text"
      },
      "source": [
        "## Calculating the Accuracy"
      ]
    },
    {
      "cell_type": "code",
      "metadata": {
        "id": "BH1gQsL_0mEn",
        "colab_type": "code",
        "colab": {}
      },
      "source": [
        "import numpy as np\n",
        "from sklearn.metrics import mean_squared_error,accuracy_score\n",
        "from sklearn.metrics import r2_score\n",
        "error = (np.sqrt(mean_squared_error(y_test, y_pred)))\n",
        "accuracy=100-test_set_rmse \n",
        "test_set_r2 = r2_score(y_test, y_pred)\n"
      ],
      "execution_count": 0,
      "outputs": []
    },
    {
      "cell_type": "code",
      "metadata": {
        "id": "pE3i3Lyk0mEy",
        "colab_type": "code",
        "outputId": "d3d3e28b-7430-4982-edf2-2f2e4efd2c6d",
        "colab": {
          "base_uri": "https://localhost:8080/",
          "height": 34
        }
      },
      "source": [
        "print(test_set_rmse)"
      ],
      "execution_count": 34,
      "outputs": [
        {
          "output_type": "stream",
          "text": [
            "64.00481714520643\n"
          ],
          "name": "stdout"
        }
      ]
    },
    {
      "cell_type": "code",
      "metadata": {
        "id": "aI9T6tdb0mFB",
        "colab_type": "code",
        "colab": {}
      },
      "source": [
        "fit = classifier.fit(X.values.reshape(-1, 1),y)"
      ],
      "execution_count": 0,
      "outputs": []
    },
    {
      "cell_type": "code",
      "metadata": {
        "id": "fb9ptGKd0mFQ",
        "colab_type": "code",
        "outputId": "3591c3f3-928c-48d3-908c-04e0e3437264",
        "colab": {
          "base_uri": "https://localhost:8080/",
          "height": 34
        }
      },
      "source": [
        "fit.score(X.values.reshape(-1, 1),y)"
      ],
      "execution_count": 14,
      "outputs": [
        {
          "output_type": "execute_result",
          "data": {
            "text/plain": [
              "0.0008096042510168378"
            ]
          },
          "metadata": {
            "tags": []
          },
          "execution_count": 14
        }
      ]
    },
    {
      "cell_type": "code",
      "metadata": {
        "id": "kMZz4ozvYmWC",
        "colab_type": "code",
        "colab": {}
      },
      "source": [
        ""
      ],
      "execution_count": 0,
      "outputs": []
    }
  ]
}